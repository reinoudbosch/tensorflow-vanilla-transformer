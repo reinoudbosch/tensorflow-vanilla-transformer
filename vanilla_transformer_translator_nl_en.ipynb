{
 "cells": [
  {
   "cell_type": "markdown",
   "id": "8e32a853",
   "metadata": {},
   "source": [
    "# Purpose of this notebook\n",
    "\n",
    "This notebook provides code for building a Dutch to English translator using a vanilla transformer.<br>\n",
    "It uses code from the following sources:\n",
    "\n",
    "https://www.tensorflow.org/text/guide/subwords_tokenizer <br>\n",
    "https://www.tensorflow.org/text/tutorials/transformer <br>\n",
    "https://machinelearningmastery.com/save-load-keras-deep-learning-models/<br>"
   ]
  },
  {
   "cell_type": "markdown",
   "id": "c514e6ac",
   "metadata": {},
   "source": [
    "The vanilla transformer was presented in the paper 'Attention is all you need' published by Vashwani et al. (2017) at ArXiv (https://arxiv.org/abs/1706.03762). The architecture is shown in the following image:\n",
    "\n",
    "<img src=\"images/transformer.png\">"
   ]
  },
  {
   "cell_type": "markdown",
   "id": "ae69fbe6",
   "metadata": {},
   "source": [
    "The dataset is taken from ParaCrawl (https://paracrawl.eu/) available through tensorflow datasets (https://www.tensorflow.org/datasets/catalog/para_crawl).\n",
    "The model is trained on a single NVIDIA 3090 GPU."
   ]
  },
  {
   "cell_type": "markdown",
   "id": "4439f63d",
   "metadata": {},
   "source": [
    "# Prepare environment for use of GPU and install tensorflow\n",
    "Source: (https://www.tensorflow.org/install/pip)<br><br>\n",
    "<u>Create conda environment:<br></u>\n",
    "conda create --name tf python=3.9 <br>\n",
    "conda activate tf <br><br>\n",
    "<u>check if nvidia gpu driver is installed:<br></u>\n",
    "nvidia-smi <br><br>\n",
    "<u>If needed, install nvidia gpu driver:</u><br>\n",
    "https://www.nvidia.com/Download/index.aspx<br><br>\n",
    "<u>install cuda and cudnn:<br></u>\n",
    "conda install -c conda-forge cudatoolkit=11.2 cudnn=8.1.0 <br><br>\n",
    "<u>Configure system paths:</u><br>\n",
    "mkdir -p \\\\$CONDA_PREFIX/etc/conda/activate.d <br>\n",
    "echo 'export LD_LIBRARY_PATH=\\\\$LD_LIBRARY_PATH:\\\\$CONDA_PREFIX/lib/' > $CONDA_PREFIX/etc/conda/activate.d/env_vars.sh <br><br>\n",
    "<u> Install tensorflow:<br></u>\n",
    "pip install --upgrade pip <br>\n",
    "pip install tensorflow <br><br>\n",
    "<u>Some troubleshooting: <br></u>\n",
    "https://stackoverflow.com/questions/44232898/memoryerror-in-tensorflow-and-successful-numa-node-read-from-sysfs-had-negativ <br>\n",
    "https://forums.developer.nvidia.com/t/could-not-load-dynamic-library-libnvinfer-so-7/231606/7<br>"
   ]
  },
  {
   "cell_type": "code",
   "execution_count": 1,
   "id": "3ac0272f",
   "metadata": {},
   "outputs": [
    {
     "name": "stderr",
     "output_type": "stream",
     "text": [
      "2023-01-12 21:39:58.763185: I tensorflow/core/platform/cpu_feature_guard.cc:193] This TensorFlow binary is optimized with oneAPI Deep Neural Network Library (oneDNN) to use the following CPU instructions in performance-critical operations:  AVX2 FMA\n",
      "To enable them in other operations, rebuild TensorFlow with the appropriate compiler flags.\n"
     ]
    }
   ],
   "source": [
    "import tensorflow as tf\n",
    "import tensorflow_datasets as tfds\n",
    "import logging\n",
    "logging.getLogger('tensorflow').setLevel(logging.ERROR) # exclude certain non-essential error messages"
   ]
  },
  {
   "cell_type": "code",
   "execution_count": 2,
   "id": "255a8b52",
   "metadata": {},
   "outputs": [
    {
     "name": "stdout",
     "output_type": "stream",
     "text": [
      "[PhysicalDevice(name='/physical_device:GPU:0', device_type='GPU')]\n"
     ]
    }
   ],
   "source": [
    "print(tf.config.list_physical_devices('GPU')) # check if GPU is recognized"
   ]
  },
  {
   "cell_type": "markdown",
   "id": "2eca1488",
   "metadata": {},
   "source": [
    "# Load dataset"
   ]
  },
  {
   "cell_type": "code",
   "execution_count": 3,
   "id": "9444515e",
   "metadata": {
    "scrolled": true
   },
   "outputs": [
    {
     "name": "stdout",
     "output_type": "stream",
     "text": [
      "tfds.core.DatasetInfo(\n",
      "    name='para_crawl',\n",
      "    full_name='para_crawl/ennl/1.2.0',\n",
      "    description=\"\"\"\n",
      "    Web-Scale Parallel Corpora for Official European Languages.\n",
      "    \"\"\",\n",
      "    config_description=\"\"\"\n",
      "    Translation dataset from English to nl.\n",
      "    \"\"\",\n",
      "    homepage='https://paracrawl.eu/releases.html',\n",
      "    data_path='/home/user/tensorflow_datasets/para_crawl/ennl/1.2.0',\n",
      "    file_format=tfrecord,\n",
      "    download_size=400.63 MiB,\n",
      "    dataset_size=1.40 GiB,\n",
      "    features=Translation({\n",
      "        'en': Text(shape=(), dtype=string),\n",
      "        'nl': Text(shape=(), dtype=string),\n",
      "    }),\n",
      "    supervised_keys=('en', 'nl'),\n",
      "    disable_shuffling=False,\n",
      "    splits={\n",
      "        'train': <SplitInfo num_examples=5659268, num_shards=16>,\n",
      "    },\n",
      "    citation=\"\"\"@misc {paracrawl,\n",
      "        title  = \"ParaCrawl\",\n",
      "        year   = \"2018\",\n",
      "        url    = \"http://paracrawl.eu/download.html.\"\n",
      "    }\"\"\",\n",
      ")\n"
     ]
    },
    {
     "name": "stderr",
     "output_type": "stream",
     "text": [
      "2023-01-12 21:39:59.855042: I tensorflow/core/platform/cpu_feature_guard.cc:193] This TensorFlow binary is optimized with oneAPI Deep Neural Network Library (oneDNN) to use the following CPU instructions in performance-critical operations:  AVX2 FMA\n",
      "To enable them in other operations, rebuild TensorFlow with the appropriate compiler flags.\n",
      "2023-01-12 21:40:00.186713: I tensorflow/core/common_runtime/gpu/gpu_device.cc:1613] Created device /job:localhost/replica:0/task:0/device:GPU:0 with 20999 MB memory:  -> device: 0, name: NVIDIA GeForce RTX 3090, pci bus id: 0000:0a:00.0, compute capability: 8.6\n"
     ]
    }
   ],
   "source": [
    "examples, metadata = tfds.load('para_crawl/ennl', as_supervised=True, with_info=True)\n",
    "print(metadata)"
   ]
  },
  {
   "cell_type": "code",
   "execution_count": 4,
   "id": "8d0e53fb",
   "metadata": {},
   "outputs": [
    {
     "name": "stdout",
     "output_type": "stream",
     "text": [
      "5093341\n"
     ]
    }
   ],
   "source": [
    "# to limit size of dataset use 90% for training, 10% for validation\n",
    "\n",
    "train_examples, train_metadata = tfds.load('para_crawl/ennl', split='train[:90%]',\n",
    "                                     as_supervised=True, with_info=True)\n",
    "print(tf.data.experimental.cardinality(train_examples).numpy()) # elements"
   ]
  },
  {
   "cell_type": "code",
   "execution_count": 5,
   "id": "10f90e52",
   "metadata": {},
   "outputs": [
    {
     "name": "stdout",
     "output_type": "stream",
     "text": [
      "565927\n"
     ]
    }
   ],
   "source": [
    "val_examples, val_metadata = tfds.load('para_crawl/ennl', split='train[90%:]',\n",
    "                                     as_supervised=True, with_info=True)\n",
    "print(tf.data.experimental.cardinality(val_examples).numpy()) # elements"
   ]
  },
  {
   "cell_type": "code",
   "execution_count": 6,
   "id": "6fe9460a",
   "metadata": {
    "scrolled": true
   },
   "outputs": [
    {
     "name": "stdout",
     "output_type": "stream",
     "text": [
      "tf.Tensor(b'In the romantically decorated chambre of the Hotel de France the guests are welcomed by a well-stocked fridge, which seems invite you to have a crazy night.', shape=(), dtype=string)\n",
      "tf.Tensor(b'In de romantisch ingerichte chambre van Hotel de France worden de gasten verwelkomd door een gul gevulde ijskast die uit lijkt te nodigen tot een dolle avond.', shape=(), dtype=string)\n",
      "tf.Tensor(b'\"Very well,\" answered my uncle; \"let us start from that point and count four days\\' storm, during which our rate cannot have been less than eighty leagues in the twenty-four hours.\"', shape=(), dtype=string)\n",
      "tf.Tensor(b'\"Goed! Dan zullen wij van dat punt uitgaan en vier dagen storm rekenen, gedurende welke onze snelheid niet minder dan tachtig uur per dag heeft kunnen bedragen.\" \"Dat geloof ik ook.', shape=(), dtype=string)\n",
      "tf.Tensor(b'Price tag 15 nights / 16 days, including top luxury accommodation, air-conditioned car and experienced driver, English-speaking guide, domestic flights in India, breakfast, lunch and dinner every day, ALL monument entrance fees and activities. USD $ 5475 per person', shape=(), dtype=string)\n",
      "tf.Tensor(b'15 nachten / 16 dagen, inclusief Engelssprekende gids, luxe-wagen met airconditioning en chauffeur, verplaatsingen, luxe accommodatie, alle ontbijten, lunches en avondmalen, inkomticketen en de activiteiten die in het overzicht vermeld worden.', shape=(), dtype=string)\n"
     ]
    }
   ],
   "source": [
    "# look at first three training examples\n",
    "\n",
    "i = 0\n",
    "for example in train_examples:\n",
    "    print(example[0])\n",
    "    print(example[1])\n",
    "    i += 1\n",
    "    if i==3:\n",
    "        break"
   ]
  },
  {
   "cell_type": "code",
   "execution_count": 7,
   "id": "46db34a5",
   "metadata": {},
   "outputs": [],
   "source": [
    "# split training set into Dutch and English\n",
    "train_nl = train_examples.map(lambda en, nl: nl) # for en, nl in train_examples select nl\n",
    "train_en = train_examples.map(lambda en, nl: en)\n"
   ]
  },
  {
   "cell_type": "markdown",
   "id": "58955199",
   "metadata": {},
   "source": [
    "# Create vocabulary"
   ]
  },
  {
   "cell_type": "code",
   "execution_count": 8,
   "id": "23918e26",
   "metadata": {},
   "outputs": [],
   "source": [
    "# using BERT tokenizer to turn the texts into tokens\n",
    "\n",
    "bert_tokenizer_params=dict(lower_case=True)  # turn text into lowercase\n",
    "reserved_tokens=[\"[PAD]\", \"[UNK]\", \"[START]\", \"[END]\"]\n",
    "\n",
    "bert_vocab_args = dict(\n",
    "    # The target vocabulary size\n",
    "    vocab_size = 32000,   # size of en fr word piece vocabulary used in attention is all you need paper\n",
    "    # Reserved tokens that must be included in the vocabulary\n",
    "    reserved_tokens=reserved_tokens,\n",
    "    # Arguments for `text.BertTokenizer`\n",
    "    bert_tokenizer_params=bert_tokenizer_params,\n",
    "    # Start arguments for `wordpiece_vocab.wordpiece_tokenizer_learner_lib.learn`\n",
    "    # https://www.programcreek.com/python/?code=tensorflow%2Ftext%2Ftext-master%2Ftools%2Fwordpiece_vocab%2Fwordpiece_tokenizer_learner_lib.py\n",
    "    # takes in wordcounts (list of (string, int) tuples), returns wordpiece vocabulary\n",
    "    learn_params={},\n",
    ")\n"
   ]
  },
  {
   "cell_type": "code",
   "execution_count": 9,
   "id": "9dc82f10",
   "metadata": {},
   "outputs": [],
   "source": [
    "from tensorflow_text.tools.wordpiece_vocab import bert_vocab_from_dataset as bert_vocab"
   ]
  },
  {
   "cell_type": "markdown",
   "id": "4db09feb",
   "metadata": {},
   "source": [
    "The bert_vocab_from_dataset algorithm is described here:\n",
    "https://www.tensorflow.org/text/guide/subwords_tokenizer#algorithm"
   ]
  },
  {
   "cell_type": "code",
   "execution_count": 10,
   "id": "d9bac0c1",
   "metadata": {},
   "outputs": [],
   "source": [
    "# # !run this cell only once!\n",
    "# # creates Dutch and English vocabularies, takes some time to run (~86 minutes in my case)\n",
    "\n",
    "# nl_vocab = bert_vocab.bert_vocab_from_dataset(\n",
    "#      train_nl.batch(1000).prefetch(2),\n",
    "#      **bert_vocab_args\n",
    "# )\n",
    "# en_vocab = bert_vocab.bert_vocab_from_dataset(\n",
    "#      train_en.batch(1000).prefetch(2),\n",
    "#      **bert_vocab_args\n",
    "# )\n",
    "\n",
    "\n",
    "# # Check some elements of Dutch vocab\n",
    "# print(nl_vocab[:10])\n",
    "# print(nl_vocab[1000:1100])\n",
    "# print(nl_vocab[-10:])\n",
    "\n",
    "# # write vocabularies to disk, no need to construct them again\n",
    "# def write_vocab_file(filepath, vocab):\n",
    "#   with open(filepath, 'w') as f:\n",
    "#     for token in vocab:\n",
    "#       print(token, file=f)\n",
    "\n",
    "# write_vocab_file('en_vocab.txt', en_vocab)\n",
    "# write_vocab_file('nl_vocab.txt', nl_vocab)\n"
   ]
  },
  {
   "cell_type": "markdown",
   "id": "e24677f0",
   "metadata": {},
   "source": [
    "# Build tokenizer"
   ]
  },
  {
   "cell_type": "code",
   "execution_count": 11,
   "id": "fdcce405",
   "metadata": {},
   "outputs": [],
   "source": [
    "import tensorflow_text as text"
   ]
  },
  {
   "cell_type": "code",
   "execution_count": 12,
   "id": "54857396",
   "metadata": {},
   "outputs": [
    {
     "name": "stdout",
     "output_type": "stream",
     "text": [
      "b'In de romantisch ingerichte chambre van Hotel de France worden de gasten verwelkomd door een gul gevulde ijskast die uit lijkt te nodigen tot een dolle avond.'\n",
      "b'\"Goed! Dan zullen wij van dat punt uitgaan en vier dagen storm rekenen, gedurende welke onze snelheid niet minder dan tachtig uur per dag heeft kunnen bedragen.\" \"Dat geloof ik ook.'\n",
      "b'15 nachten / 16 dagen, inclusief Engelssprekende gids, luxe-wagen met airconditioning en chauffeur, verplaatsingen, luxe accommodatie, alle ontbijten, lunches en avondmalen, inkomticketen en de activiteiten die in het overzicht vermeld worden.'\n",
      "\n",
      "\n",
      "[701, 696, 7512, 2880, 11234, 2578, 9063, 697, 753, 696, 2956, 718, 696, 1474, 8980, 717, 700, 48, 4688, 12091, 30032, 708, 730, 1567, 705, 7414, 724, 700, 12799, 1146, 2004, 17]\n",
      "[5, 749, 4, 733, 803, 758, 697, 709, 1681, 7518, 698, 1164, 927, 7110, 5053, 15, 1542, 992, 744, 1821, 714, 983, 733, 8886, 935, 830, 820, 732, 746, 6821, 17, 5, 5, 709, 1634, 719, 726, 17]\n",
      "[909, 3887, 18, 1037, 927, 15, 1439, 1736, 23266, 794, 2114, 15, 1494, 16, 3731, 703, 1595, 698, 4953, 15, 16369, 739, 15, 1494, 1225, 15, 743, 15316, 15, 3932, 1149, 698, 2004, 19129, 15, 701, 6852, 7621, 6495, 698, 696, 1170, 708, 701, 699, 916, 2710, 718, 17]\n"
     ]
    }
   ],
   "source": [
    "# explore tokenization with BertTokenizer\n",
    "\n",
    "nl_tokenizer = text.BertTokenizer('nl_vocab.txt', **bert_tokenizer_params)\n",
    "en_tokenizer = text.BertTokenizer('en_vocab.txt', **bert_tokenizer_params)\n",
    "\n",
    "for en_examples, nl_examples in train_examples.batch(3).take(1): # key is (en, nl)\n",
    "    for ex in nl_examples:\n",
    "        print(ex.numpy())\n",
    "    print('\\n')\n",
    "    # Tokenize the examples -> (batch, word, word-piece)\n",
    "    token_batch = nl_tokenizer.tokenize(nl_examples)\n",
    "    # Merge the word and word-piece axes -> (batch, tokens)\n",
    "    token_batch = token_batch.merge_dims(-2,-1)\n",
    "    for ex in token_batch.to_list():\n",
    "        print(ex)"
   ]
  },
  {
   "cell_type": "code",
   "execution_count": 13,
   "id": "d02ec247",
   "metadata": {},
   "outputs": [
    {
     "data": {
      "text/plain": [
       "<tf.Tensor: shape=(3,), dtype=string, numpy=\n",
       "array([b'in de romantisch ingerichte chambre van hotel de france worden de gasten verwelkomd door een gul gevulde ijskast die uit lijkt te nodigen tot een dolle avond .',\n",
       "       b'\" goed ! dan zullen wij van dat punt uitgaan en vier dagen storm rekenen , gedurende welke onze snelheid niet minder dan tachtig uur per dag heeft kunnen bedragen . \" \" dat geloof ik ook .',\n",
       "       b'15 nachten / 16 dagen , inclusief engelssprekende gids , luxe - wagen met airconditioning en chauffeur , verplaatsingen , luxe accommodatie , alle ontbijten , lunches en avondmalen , inkomticketen en de activiteiten die in het overzicht vermeld worden .'],\n",
       "      dtype=object)>"
      ]
     },
     "execution_count": 13,
     "metadata": {},
     "output_type": "execute_result"
    }
   ],
   "source": [
    "# explore how to re-assemble words from extracted tokens\n",
    "\n",
    "words = nl_tokenizer.detokenize(token_batch)\n",
    "tf.strings.reduce_join(words, separator=' ', axis=-1)\n"
   ]
  },
  {
   "cell_type": "code",
   "execution_count": 14,
   "id": "ab04ca70",
   "metadata": {},
   "outputs": [
    {
     "data": {
      "text/plain": [
       "<tf.RaggedTensor [[2, 701, 696, 7512, 2880, 11234, 2578, 9063, 697, 753, 696, 2956, 718, 696,\n",
       "  1474, 8980, 717, 700, 48, 4688, 12091, 30032, 708, 730, 1567, 705, 7414,\n",
       "  724, 700, 12799, 1146, 2004, 17, 3]                                       ,\n",
       " [2, 5, 749, 4, 733, 803, 758, 697, 709, 1681, 7518, 698, 1164, 927, 7110,\n",
       "  5053, 15, 1542, 992, 744, 1821, 714, 983, 733, 8886, 935, 830, 820, 732,\n",
       "  746, 6821, 17, 5, 5, 709, 1634, 719, 726, 17, 3]                        ,\n",
       " [2, 909, 3887, 18, 1037, 927, 15, 1439, 1736, 23266, 794, 2114, 15, 1494,\n",
       "  16, 3731, 703, 1595, 698, 4953, 15, 16369, 739, 15, 1494, 1225, 15, 743,\n",
       "  15316, 15, 3932, 1149, 698, 2004, 19129, 15, 701, 6852, 7621, 6495, 698,\n",
       "  696, 1170, 708, 701, 699, 916, 2710, 718, 17, 3]                        ]>"
      ]
     },
     "execution_count": 14,
     "metadata": {},
     "output_type": "execute_result"
    }
   ],
   "source": [
    "# explore how to add start and end tokens to examples for tokenization\n",
    "START = tf.argmax(tf.constant(reserved_tokens) == \"[START]\")\n",
    "END = tf.argmax(tf.constant(reserved_tokens) == \"[END]\")\n",
    "\n",
    "def add_start_end(ragged):\n",
    "  count = ragged.bounding_shape()[0]\n",
    "  starts = tf.fill([count,1], START)\n",
    "  ends = tf.fill([count,1], END)\n",
    "  return tf.concat([starts, ragged, ends], axis=1)\n",
    "\n",
    "add_start_end(token_batch)"
   ]
  },
  {
   "cell_type": "code",
   "execution_count": 15,
   "id": "715ec267",
   "metadata": {},
   "outputs": [],
   "source": [
    "import re"
   ]
  },
  {
   "cell_type": "code",
   "execution_count": 16,
   "id": "a29aae82",
   "metadata": {},
   "outputs": [],
   "source": [
    "# explore how to remove reserved tokens during detokenization\n",
    "\n",
    "def cleanup_text(reserved_tokens, token_txt):\n",
    "  # Drop the reserved tokens, except for \"[UNK]\".\n",
    "  bad_tokens = [re.escape(tok) for tok in reserved_tokens if tok != \"[UNK]\"]\n",
    "  bad_token_re = \"|\".join(bad_tokens)\n",
    "  bad_cells = tf.strings.regex_full_match(token_txt, bad_token_re)\n",
    "  result = tf.ragged.boolean_mask(token_txt, ~bad_cells)\n",
    "\n",
    "  # Join them into strings.\n",
    "  result = tf.strings.reduce_join(result, separator=' ', axis=-1)\n",
    "\n",
    "  return result"
   ]
  },
  {
   "cell_type": "code",
   "execution_count": 17,
   "id": "9dfa6790",
   "metadata": {},
   "outputs": [
    {
     "data": {
      "text/plain": [
       "array([b'In de romantisch ingerichte chambre van Hotel de France worden de gasten verwelkomd door een gul gevulde ijskast die uit lijkt te nodigen tot een dolle avond.',\n",
       "       b'\"Goed! Dan zullen wij van dat punt uitgaan en vier dagen storm rekenen, gedurende welke onze snelheid niet minder dan tachtig uur per dag heeft kunnen bedragen.\" \"Dat geloof ik ook.',\n",
       "       b'15 nachten / 16 dagen, inclusief Engelssprekende gids, luxe-wagen met airconditioning en chauffeur, verplaatsingen, luxe accommodatie, alle ontbijten, lunches en avondmalen, inkomticketen en de activiteiten die in het overzicht vermeld worden.'],\n",
       "      dtype=object)"
      ]
     },
     "execution_count": 17,
     "metadata": {},
     "output_type": "execute_result"
    }
   ],
   "source": [
    "nl_examples.numpy()\n"
   ]
  },
  {
   "cell_type": "code",
   "execution_count": 18,
   "id": "4e6effb7",
   "metadata": {},
   "outputs": [
    {
     "data": {
      "text/plain": [
       "<tf.RaggedTensor [[b'[START]', b'in', b'de', b'romantisch', b'ingerichte', b'chambre',\n",
       "  b'van', b'hotel', b'de', b'france', b'worden', b'de', b'gasten',\n",
       "  b'verwelkomd', b'door', b'een', b'gul', b'gevulde', b'ijskast', b'die',\n",
       "  b'uit', b'lijkt', b'te', b'nodigen', b'tot', b'een', b'dolle', b'avond',\n",
       "  b'.', b'[END]']                                                         ,\n",
       " [b'[START]', b'\"', b'goed', b'!', b'dan', b'zullen', b'wij', b'van',\n",
       "  b'dat', b'punt', b'uitgaan', b'en', b'vier', b'dagen', b'storm',\n",
       "  b'rekenen', b',', b'gedurende', b'welke', b'onze', b'snelheid', b'niet',\n",
       "  b'minder', b'dan', b'tachtig', b'uur', b'per', b'dag', b'heeft',\n",
       "  b'kunnen', b'bedragen', b'.', b'\"', b'\"', b'dat', b'geloof', b'ik',\n",
       "  b'ook', b'.', b'[END]']                                                 ,\n",
       " [b'[START]', b'15', b'nachten', b'/', b'16', b'dagen', b',', b'inclusief',\n",
       "  b'engelssprekende', b'gids', b',', b'luxe', b'-', b'wagen', b'met',\n",
       "  b'airconditioning', b'en', b'chauffeur', b',', b'verplaatsingen', b',',\n",
       "  b'luxe', b'accommodatie', b',', b'alle', b'ontbijten', b',', b'lunches',\n",
       "  b'en', b'avondmalen', b',', b'inkomticketen', b'en', b'de',\n",
       "  b'activiteiten', b'die', b'in', b'het', b'overzicht', b'vermeld',\n",
       "  b'worden', b'.', b'[END]']                                               ]>"
      ]
     },
     "execution_count": 18,
     "metadata": {},
     "output_type": "execute_result"
    }
   ],
   "source": [
    "token_batch = nl_tokenizer.tokenize(nl_examples).merge_dims(-2,-1)\n",
    "token_batch_start_end = add_start_end(token_batch)\n",
    "words = nl_tokenizer.detokenize(token_batch_start_end)\n",
    "words"
   ]
  },
  {
   "cell_type": "code",
   "execution_count": 19,
   "id": "65a68867",
   "metadata": {},
   "outputs": [
    {
     "data": {
      "text/plain": [
       "array([b'in de romantisch ingerichte chambre van hotel de france worden de gasten verwelkomd door een gul gevulde ijskast die uit lijkt te nodigen tot een dolle avond .',\n",
       "       b'\" goed ! dan zullen wij van dat punt uitgaan en vier dagen storm rekenen , gedurende welke onze snelheid niet minder dan tachtig uur per dag heeft kunnen bedragen . \" \" dat geloof ik ook .',\n",
       "       b'15 nachten / 16 dagen , inclusief engelssprekende gids , luxe - wagen met airconditioning en chauffeur , verplaatsingen , luxe accommodatie , alle ontbijten , lunches en avondmalen , inkomticketen en de activiteiten die in het overzicht vermeld worden .'],\n",
       "      dtype=object)"
      ]
     },
     "execution_count": 19,
     "metadata": {},
     "output_type": "execute_result"
    }
   ],
   "source": [
    "cleanup_text(reserved_tokens, words).numpy()\n"
   ]
  },
  {
   "cell_type": "code",
   "execution_count": 20,
   "id": "46020272",
   "metadata": {},
   "outputs": [],
   "source": [
    "import pathlib"
   ]
  },
  {
   "cell_type": "code",
   "execution_count": 21,
   "id": "ab660735",
   "metadata": {},
   "outputs": [],
   "source": [
    "# now define the customized tokenizer used to tokenize the texts\n",
    "\n",
    "class CustomTokenizer(tf.Module):\n",
    "  def __init__(self, reserved_tokens, vocab_path):\n",
    "    # create tokenizer based on vocab located at vocab_path\n",
    "    self.tokenizer = text.BertTokenizer(vocab_path, lower_case=True)\n",
    "    # [\"[PAD]\", \"[UNK]\", \"[START]\", \"[END]\"]\n",
    "    self._reserved_tokens = reserved_tokens\n",
    "    # include vocab file in saved tokenizer model\n",
    "    self._vocab_path = tf.saved_model.Asset(vocab_path)\n",
    "    # load vocab\n",
    "    vocab = pathlib.Path(vocab_path).read_text().splitlines()\n",
    "    # turn vocab into tf.Variable\n",
    "    self.vocab = tf.Variable(vocab)\n",
    "\n",
    "    # signatures serve to identify inputs and outputs of a function when building a model\n",
    "    # these are included in the graph\n",
    "    # get_concrete_function traces the graph, @tf.function runs the graph\n",
    "\n",
    "    ## Create the signatures for export:   \n",
    "\n",
    "    # Include a tokenize signature for a batch of strings. \n",
    "    self.tokenize.get_concrete_function(\n",
    "        tf.TensorSpec(shape=[None], dtype=tf.string))\n",
    "\n",
    "    # Include `detokenize` and `lookup` signatures for:\n",
    "    #   * `Tensors` with shapes [tokens] and [batch, tokens]\n",
    "    #   * `RaggedTensors` with shape [batch, tokens]\n",
    "    self.detokenize.get_concrete_function(\n",
    "        tf.TensorSpec(shape=[None, None], dtype=tf.int64))\n",
    "    self.detokenize.get_concrete_function(\n",
    "          tf.RaggedTensorSpec(shape=[None, None], dtype=tf.int64))\n",
    "\n",
    "    self.lookup.get_concrete_function(\n",
    "        tf.TensorSpec(shape=[None, None], dtype=tf.int64))\n",
    "    self.lookup.get_concrete_function(\n",
    "          tf.RaggedTensorSpec(shape=[None, None], dtype=tf.int64))\n",
    "\n",
    "    # These `get_*` methods take no arguments\n",
    "    self.get_vocab_size.get_concrete_function()\n",
    "    self.get_vocab_path.get_concrete_function()\n",
    "    self.get_reserved_tokens.get_concrete_function()\n",
    "\n",
    "  @tf.function\n",
    "  def tokenize(self, strings):\n",
    "    enc = self.tokenizer.tokenize(strings)\n",
    "    # Merge the `word` and `word-piece` axes.\n",
    "    enc = enc.merge_dims(-2,-1)\n",
    "    enc = add_start_end(enc)\n",
    "    return enc\n",
    "\n",
    "  @tf.function\n",
    "  def detokenize(self, tokenized):\n",
    "    words = self.tokenizer.detokenize(tokenized)\n",
    "    return cleanup_text(self._reserved_tokens, words)\n",
    "\n",
    "  @tf.function\n",
    "  def lookup(self, token_ids):\n",
    "    return tf.gather(self.vocab, token_ids)\n",
    "\n",
    "  @tf.function\n",
    "  def get_vocab_size(self):\n",
    "    return tf.shape(self.vocab)[0]\n",
    "\n",
    "  @tf.function\n",
    "  def get_vocab_path(self):\n",
    "    return self._vocab_path\n",
    "\n",
    "  @tf.function\n",
    "  def get_reserved_tokens(self):\n",
    "    return tf.constant(self._reserved_tokens)\n"
   ]
  },
  {
   "cell_type": "code",
   "execution_count": 22,
   "id": "a74ee5ee",
   "metadata": {},
   "outputs": [],
   "source": [
    "# Build customtokenizers to be used\n",
    "\n",
    "tokenizers = tf.Module()\n",
    "tokenizers.nl = CustomTokenizer(reserved_tokens, 'nl_vocab.txt')\n",
    "tokenizers.en = CustomTokenizer(reserved_tokens, 'en_vocab.txt')\n",
    "\n"
   ]
  },
  {
   "cell_type": "code",
   "execution_count": 23,
   "id": "7494ebfe",
   "metadata": {},
   "outputs": [],
   "source": [
    "# save customtokenizers as a tokenizer model\n",
    "\n",
    "tokenizer_model_name = 'tokenizer_model_paracrawl_en_nl_translator'\n",
    "tf.saved_model.save(tokenizers, tokenizer_model_name)"
   ]
  },
  {
   "cell_type": "code",
   "execution_count": 24,
   "id": "8b1dac1a",
   "metadata": {},
   "outputs": [
    {
     "data": {
      "text/plain": [
       "['detokenize',\n",
       " 'get_reserved_tokens',\n",
       " 'get_vocab_path',\n",
       " 'get_vocab_size',\n",
       " 'lookup',\n",
       " 'name',\n",
       " 'name_scope',\n",
       " 'non_trainable_variables',\n",
       " 'submodules',\n",
       " 'tokenize',\n",
       " 'tokenizer',\n",
       " 'trainable_variables',\n",
       " 'variables',\n",
       " 'vocab',\n",
       " 'with_name_scope']"
      ]
     },
     "execution_count": 24,
     "metadata": {},
     "output_type": "execute_result"
    }
   ],
   "source": [
    "# see methods of tokenizer model module\n",
    "[item for item in dir(tokenizers.en) if not item.startswith('_')]\n"
   ]
  },
  {
   "cell_type": "code",
   "execution_count": 25,
   "id": "4dcbfc65",
   "metadata": {},
   "outputs": [
    {
     "data": {
      "text/plain": [
       "30872"
      ]
     },
     "execution_count": 25,
     "metadata": {},
     "output_type": "execute_result"
    }
   ],
   "source": [
    "# reload model and test methods\n",
    "\n",
    "reloaded_tokenizers = tf.saved_model.load(tokenizer_model_name)\n",
    "reloaded_tokenizers.nl.get_vocab_size().numpy()"
   ]
  },
  {
   "cell_type": "code",
   "execution_count": 26,
   "id": "2ca6a13d",
   "metadata": {},
   "outputs": [
    {
     "data": {
      "text/plain": [
       "array([[    2,  6735,   955, 20622, 25838,     4,     3]])"
      ]
     },
     "execution_count": 26,
     "metadata": {},
     "output_type": "execute_result"
    }
   ],
   "source": [
    "tokens = reloaded_tokenizers.nl.tokenize(['Hallo TensorFlow!'])\n",
    "tokens.numpy()\n"
   ]
  },
  {
   "cell_type": "code",
   "execution_count": 27,
   "id": "39f9e7c2",
   "metadata": {},
   "outputs": [
    {
     "data": {
      "text/plain": [
       "<tf.RaggedTensor [[b'[START]', b'hallo', b'ten', b'##sor', b'##flow', b'!', b'[END]']]>"
      ]
     },
     "execution_count": 27,
     "metadata": {},
     "output_type": "execute_result"
    }
   ],
   "source": [
    "text_tokens = reloaded_tokenizers.nl.lookup(tokens)\n",
    "text_tokens\n"
   ]
  },
  {
   "cell_type": "code",
   "execution_count": 28,
   "id": "07ffe205",
   "metadata": {},
   "outputs": [
    {
     "name": "stdout",
     "output_type": "stream",
     "text": [
      "/bin/bash: /home/user/anaconda3/envs/tf/lib/libtinfo.so.6: no version information available (required by /bin/bash)\n",
      "updating: tokenizer_model_paracrawl_en_nl_translator/ (stored 0%)\n",
      "updating: tokenizer_model_paracrawl_en_nl_translator/variables/ (stored 0%)\n",
      "updating: tokenizer_model_paracrawl_en_nl_translator/variables/variables.data-00000-of-00001 (deflated 49%)\n",
      "updating: tokenizer_model_paracrawl_en_nl_translator/variables/variables.index (deflated 32%)\n",
      "updating: tokenizer_model_paracrawl_en_nl_translator/assets/ (stored 0%)\n",
      "updating: tokenizer_model_paracrawl_en_nl_translator/assets/nl_vocab.txt (deflated 54%)\n",
      "updating: tokenizer_model_paracrawl_en_nl_translator/assets/en_vocab.txt (deflated 51%)\n",
      "updating: tokenizer_model_paracrawl_en_nl_translator/saved_model.pb (deflated 91%)\n",
      "updating: tokenizer_model_paracrawl_en_nl_translator/fingerprint.pb (stored 0%)\n"
     ]
    }
   ],
   "source": [
    "# archive the tokenizer model\n",
    "!zip -r {tokenizer_model_name}.zip {tokenizer_model_name}\n"
   ]
  },
  {
   "cell_type": "markdown",
   "id": "8e402210",
   "metadata": {},
   "source": [
    "# Set up data pipeline"
   ]
  },
  {
   "cell_type": "code",
   "execution_count": 29,
   "id": "ba1f17c5",
   "metadata": {},
   "outputs": [],
   "source": [
    "# import matplotlib.pyplot as plt\n",
    "# import numpy as np\n",
    "\n",
    "# # check the number of tokens per example in the dataset, takes some time (~6 minutes in my case)\n",
    "# # only needs to be run once to determine MAX_TOKENS\n",
    "\n",
    "# lengths = []\n",
    "\n",
    "# for en_examples, nl_examples in train_examples.batch(1024): # key is (en, nl)\n",
    "#     nl_tokens = tokenizers.nl.tokenize(nl_examples)\n",
    "#     lengths.append(nl_tokens.row_lengths())\n",
    "    \n",
    "#     en_tokens = tokenizers.en.tokenize(en_examples)\n",
    "#     lengths.append(en_tokens.row_lengths())\n",
    "\n",
    "# # show the distribution of the number of tokens per example and the maximum\n",
    "\n",
    "# all_lengths = np.concatenate(lengths)\n",
    "\n",
    "# plt.figure(figsize=(14, 6))\n",
    "# plt.hist(all_lengths, np.linspace(0, 400, 101))\n",
    "# plt.xticks(np.arange(0, 400, 10))\n",
    "# plt.ylim(plt.ylim())\n",
    "\n",
    "# max_length = max(all_lengths)\n",
    "# plt.plot([max_length, max_length], plt.ylim())\n",
    "# plt.title(f'Maximum tokens per example: {max_length}');\n"
   ]
  },
  {
   "cell_type": "code",
   "execution_count": 30,
   "id": "0bf6c504",
   "metadata": {},
   "outputs": [],
   "source": [
    "# the paper attention is all you need indicates batches were used with around 25,000 tokens\n",
    "# to fit into memory of 1 NVIDIA 3090 GPU here the maximum length of tokens is set to 128 with a batch size of 64\n",
    "\n",
    "MAX_TOKENS=128\n",
    "BATCH_SIZE=64\n",
    "\n",
    "# setting buffer size for shuffling\n",
    "BUFFER_SIZE = 50000\n"
   ]
  },
  {
   "cell_type": "code",
   "execution_count": 31,
   "id": "7cfa74b3",
   "metadata": {},
   "outputs": [],
   "source": [
    "# set up input pipeline\n",
    "\n",
    "def prepare_batch(en, nl):\n",
    "    nl = tokenizers.nl.tokenize(nl)      # Output is ragged.\n",
    "    nl = nl[:, :MAX_TOKENS]              # Trim to MAX_TOKENS.\n",
    "    nl = nl.to_tensor()                  # Convert to 0-padded dense Tensor\n",
    "\n",
    "    en = tokenizers.en.tokenize(en)\n",
    "    en = en[:, :(MAX_TOKENS+1)]\n",
    "    en_inputs = en[:, :-1].to_tensor()  # Drop the [END] tokens\n",
    "    en_labels = en[:, 1:].to_tensor()   # Drop the [START] tokens\n",
    "\n",
    "    return (nl, en_inputs), en_labels   # nl, en text switched\n",
    "\n",
    "def make_batches(ds):\n",
    "  return (\n",
    "      ds\n",
    "      .shuffle(BUFFER_SIZE)\n",
    "      .batch(BATCH_SIZE)\n",
    "      .map(prepare_batch, tf.data.AUTOTUNE)\n",
    "      .prefetch(buffer_size=tf.data.AUTOTUNE))\n",
    "\n",
    "train_batches = make_batches(train_examples)\n",
    "val_batches = make_batches(val_examples)\n"
   ]
  },
  {
   "cell_type": "code",
   "execution_count": 32,
   "id": "b2ac0bd4",
   "metadata": {},
   "outputs": [
    {
     "name": "stdout",
     "output_type": "stream",
     "text": [
      "(64, 65)\n",
      "(64, 66)\n",
      "(64, 66)\n",
      "tf.Tensor(\n",
      "[[b'[START]' b'veel' b'toeristen' ... b'[PAD]' b'[PAD]' b'[PAD]']\n",
      " [b'[START]' b'laboratorium' b'##apparatuur' ... b'[PAD]' b'[PAD]'\n",
      "  b'[PAD]']\n",
      " [b'[START]' b'u' b'krijgt' ... b'[PAD]' b'[PAD]' b'[PAD]']\n",
      " ...\n",
      " [b'[START]' b'gemiddeld' b'komt' ... b'[PAD]' b'[PAD]' b'[PAD]']\n",
      " [b'[START]' b'virtuele' b'wandeling' ... b'[PAD]' b'[PAD]' b'[PAD]']\n",
      " [b'[START]' b'het' b'derde' ... b'[PAD]' b'[PAD]' b'[PAD]']], shape=(64, 65), dtype=string)\n",
      "tf.Tensor(\n",
      "[[b'[START]' b'many' b'tourists' ... b'[PAD]' b'[PAD]' b'[PAD]']\n",
      " [b'[START]' b'laboratory' b'equipment' ... b'[PAD]' b'[PAD]' b'[PAD]']\n",
      " [b'[START]' b'you' b'also' ... b'[PAD]' b'[PAD]' b'[PAD]']\n",
      " ...\n",
      " [b'[START]' b'on' b'average' ... b'[PAD]' b'[PAD]' b'[PAD]']\n",
      " [b'[START]' b'virtual' b'tour' ... b'[PAD]' b'[PAD]' b'[PAD]']\n",
      " [b'[START]' b'third' b'level' ... b'[PAD]' b'[PAD]' b'[PAD]']], shape=(64, 66), dtype=string)\n"
     ]
    }
   ],
   "source": [
    "# test input pipeline\n",
    "\n",
    "for (nl, en_inputs), en_labels in train_batches.take(1):\n",
    "    break\n",
    "    \n",
    "print(nl.shape)\n",
    "print(en_inputs.shape)\n",
    "print(en_labels.shape)\n",
    "print(reloaded_tokenizers.nl.lookup(nl))\n",
    "print(reloaded_tokenizers.en.lookup(en_inputs))"
   ]
  },
  {
   "cell_type": "markdown",
   "id": "7fb65040",
   "metadata": {},
   "source": [
    "# Encoder\n",
    "\n",
    "This is the left part of the transformer.<br>\n",
    "<img src=\"images/encoder.png\" width=\"300\" align=\"left\"/>\n"
   ]
  },
  {
   "cell_type": "markdown",
   "id": "c8c55875",
   "metadata": {},
   "source": [
    "# Positional encoding"
   ]
  },
  {
   "cell_type": "markdown",
   "id": "455700c3",
   "metadata": {},
   "source": [
    "For the input embedding a Keras Embedding layer will be used.<br>\n",
    "\n",
    "The positional encoding is calculated according to the following formula:\n",
    "\n",
    "<img src=\"images/positional_encoding.png\" width=\"300\" align=\"left\"/>"
   ]
  },
  {
   "cell_type": "code",
   "execution_count": 33,
   "id": "ec802248",
   "metadata": {},
   "outputs": [],
   "source": [
    "import numpy as np"
   ]
  },
  {
   "cell_type": "code",
   "execution_count": 34,
   "id": "b1ad4498",
   "metadata": {},
   "outputs": [],
   "source": [
    "def positional_encoding(max_len, d_model):\n",
    "    '''\n",
    "    Returns positional encoding for maximum length and embedding of tokenized sentences\n",
    "    '''\n",
    "    \n",
    "    positions = np.arange(max_len)[:, np.newaxis]                      # shape = (max_len, 1)\n",
    "    i = np.arange(d_model)[np.newaxis, :]//2                           # shape = (1, d_model)\n",
    "    angle_rads = positions / np.power(10000, 2*i/np.float32(d_model))  # shape = (max_len, d_model)\n",
    "    \n",
    "    # apply sin to even indices in the array\n",
    "    angle_rads[:, 0::2] = np.sin(angle_rads[:, 0::2])\n",
    "\n",
    "    # apply cos to odd indices in the array\n",
    "    angle_rads[:, 1::2] = np.cos(angle_rads[:, 1::2])\n",
    "\n",
    "    pos_encoding = angle_rads[np.newaxis, ...]                          # shape = (batch_size, max_len, d_model)\n",
    "\n",
    "    return tf.cast(pos_encoding, dtype=tf.float32)\n"
   ]
  },
  {
   "cell_type": "markdown",
   "id": "cf865663",
   "metadata": {},
   "source": [
    "The encoder layer will use Keras MultiHeadAttention and LayerNormalization layers.<br>\n",
    "The FeedForward layer can be defined as follows:"
   ]
  },
  {
   "cell_type": "code",
   "execution_count": 35,
   "id": "ebb1a48f",
   "metadata": {},
   "outputs": [],
   "source": [
    "def FeedForward(d_model, dff):\n",
    "    return tf.keras.Sequential([\n",
    "        tf.keras.layers.Dense(dff, activation='relu'),  # ouput shape = (batch_size, seq_len, dff)\n",
    "        tf.keras.layers.Dense(d_model)                  # output shape = (batch_size, seq_len, d_model)\n",
    "    ])"
   ]
  },
  {
   "cell_type": "markdown",
   "id": "93a35ff0",
   "metadata": {},
   "source": [
    "Now the EncoderLayer can be built, which will be used N times in the encoder.<br>\n",
    "Its MultiHeadAttention layer implements attention which follows this formula:\n",
    "$$\n",
    "\\text { Attention }(Q, K, V)=\\operatorname{softmax}\\left(\\frac{Q K^{T}}{\\sqrt{d_{k}}}+{M}\\right) V\\\n",
    "$$\n",
    "<br>\n"
   ]
  },
  {
   "cell_type": "markdown",
   "id": "8d1d22b4",
   "metadata": {},
   "source": [
    "The output of the embedding layer has dimensions (batch_size, input_seq_len, d_model). The dimensions of $QK^T$ is (batch_size, input_seq_len, input_seq_len). This means that the padding mask M, used to exclude padding from influencing the softmax calculation, also has dimension (batch_size, input_seq_len, input_seq_len. "
   ]
  },
  {
   "cell_type": "code",
   "execution_count": 36,
   "id": "033e9d4f",
   "metadata": {},
   "outputs": [],
   "source": [
    "def create_padding_mask(seq):\n",
    "    '''\n",
    "    Creates attention_mask for MultiHeadAttention layer.\n",
    "    Returns a tensor in which 1 indicates attention and 0 indicates no attention.\n",
    "    Arguments:\n",
    "        seq -- attention logits of dimension (batch_size, seq_len)\n",
    "    Returns:\n",
    "        padding_mask of dimension (batch_size, 1, seq_len)\n",
    "    '''    \n",
    "    \n",
    "    seq = tf.cast(tf.math.not_equal(seq, 0), tf.bool)\n",
    "\n",
    "    return seq[:, tf.newaxis, :]   # shape (batch_size, 1, seq_len). New axis can be broadcast to seq_len."
   ]
  },
  {
   "cell_type": "code",
   "execution_count": 37,
   "id": "426f1264",
   "metadata": {},
   "outputs": [
    {
     "data": {
      "text/plain": [
       "<tf.Tensor: shape=(2, 1, 7), dtype=bool, numpy=\n",
       "array([[[ True,  True,  True,  True,  True, False, False]],\n",
       "\n",
       "       [[ True,  True,  True, False, False, False, False]]])>"
      ]
     },
     "execution_count": 37,
     "metadata": {},
     "output_type": "execute_result"
    }
   ],
   "source": [
    "# example\n",
    "create_padding_mask([[32, 64, 87, 5, 368, 0, 0],\n",
    "                     [675, 54, 23, 0, 0, 0, 0]])"
   ]
  },
  {
   "cell_type": "code",
   "execution_count": 38,
   "id": "819e9949",
   "metadata": {},
   "outputs": [],
   "source": [
    "from tensorflow.keras.layers import MultiHeadAttention, LayerNormalization, Add"
   ]
  },
  {
   "cell_type": "code",
   "execution_count": 39,
   "id": "63c83f24",
   "metadata": {},
   "outputs": [],
   "source": [
    "class EncoderLayer(tf.keras.layers.Layer):\n",
    "    \"\"\"\n",
    "    The encoder layer consists of a multi-head self-attention layer followed by a feed forward layer.\n",
    "    A residual connection exists around each sub-layer. \n",
    "    This connection is added to the output of the sub-layer, followed by layer normalization.\n",
    "    \"\"\"\n",
    "\n",
    "    def __init__(self, d_model, h, dff, p_drop=0.1, layernorm_eps=1e-6):\n",
    "        \n",
    "        '''\n",
    "        d_model -- encoding dimension of the model\n",
    "        h -- number of heads used in MultiHeadAttention layer\n",
    "        dff -- number of nodes in first Dense layer of FeedForward layer\n",
    "        p_drop -- dropout ratio\n",
    "        layernorm_eps -- value added to denominator in calculation of norm, for numerical stability\n",
    "        '''\n",
    "\n",
    "        super(EncoderLayer, self).__init__()\n",
    "\n",
    "        self.mha = MultiHeadAttention(num_heads=h, key_dim=d_model, dropout=p_drop)\n",
    "\n",
    "        self.ffn = FeedForward(d_model=d_model, dff=dff)\n",
    "\n",
    "        self.layernorm = LayerNormalization(epsilon=layernorm_eps)\n",
    "\n",
    "        self.dropout_ffn = Dropout(p_drop)\n",
    "    \n",
    "    def call(self, x, training, enc_padding_mask):\n",
    "        \"\"\"\n",
    "        Forward pass for the Encoder Layer\n",
    "        \n",
    "        Arguments:\n",
    "            x -- tensor of shape (batch_size, input_seq_len, d_model)\n",
    "            enc_padding_mask -- Boolean mask to ensure padding is not treated as input\n",
    "            training -- Boolean, if set to true activates dropout\n",
    "        Returns:\n",
    "            encoder_layer_out -- tensor of shape (batch_size, input_seq_len, embedding_dim)\n",
    "        \"\"\"\n",
    "                \n",
    "        attn_output = self.mha(query=x, value=x, key=x, attention_mask=enc_padding_mask, training=training) \n",
    "        # shape = (batch_size, input_seq_len, d_model)\n",
    "        \n",
    "        # apply layer normalization on sum of the input and the attention output\n",
    "        out = self.layernorm(Add()([x, attn_output]))\n",
    "\n",
    "        # pass out through a feed forward layer\n",
    "        ffn_output = self.ffn(out)\n",
    "        \n",
    "        # apply dropout layer to ffn output during training\n",
    "        ffn_output =  self.dropout_ffn(ffn_output, training=training)\n",
    "        \n",
    "        # apply layer normalization on sum of out1 and ffn_output\n",
    "        encoder_layer_out = self.layernorm(Add()([out, ffn_output]))\n",
    "        \n",
    "        return encoder_layer_out\n"
   ]
  },
  {
   "cell_type": "code",
   "execution_count": 40,
   "id": "a2c9e5cf",
   "metadata": {},
   "outputs": [],
   "source": [
    "from tensorflow.keras.layers import Embedding, Dropout"
   ]
  },
  {
   "cell_type": "code",
   "execution_count": 41,
   "id": "3ad1874f",
   "metadata": {},
   "outputs": [],
   "source": [
    "class Encoder(tf.keras.layers.Layer):\n",
    "    \"\"\"\n",
    "    The Encoder passes the input to an embedding layer, adds positional encoding, \n",
    "    and passes the resulting tensor through a stack of encoder layers.\n",
    "        \n",
    "    \"\"\"  \n",
    "    def __init__(self, input_vocab_size, d_model, max_len, N, h, dff, p_drop=0.1, layernorm_eps=1e-6):\n",
    "        \n",
    "        '''\n",
    "        Arguments:\n",
    "            input_vocab_size -- size of the vocabulary of the input text, int\n",
    "            d_model -- dimension of the embedding of the model, int\n",
    "            max_len -- maximum length of any input sequence\n",
    "            N -- number of encoding layers, int\n",
    "            h -- number of attention heads per multihead attention layer, int\n",
    "            dff = dimension of fully connected layer\n",
    "            p_drop -- rate of random dropout of elements after each sublayer\n",
    "            layernorm_eps = value added to denominator in calculation of norm, for numerical stability\n",
    "        '''\n",
    "\n",
    "        super(Encoder, self).__init__()\n",
    "\n",
    "        self.embedding = Embedding(input_vocab_size, d_model) # creates lookup table with shape (input_vocab_size, d_model)\n",
    "        self.d_model = d_model\n",
    "        \n",
    "        self.pos_encoding = positional_encoding(max_len, self.d_model)\n",
    "\n",
    "        self.dropout = Dropout(p_drop)\n",
    "\n",
    "        self.N = N\n",
    "\n",
    "        self.enc_layers = [EncoderLayer(d_model=self.d_model, h=h, dff=dff, p_drop=p_drop, layernorm_eps=layernorm_eps)\n",
    "                           for _ in range(self.N)]\n",
    "        \n",
    "    def call(self, x, training, enc_padding_mask):\n",
    "        \"\"\"\n",
    "        Forward pass of the Encoder\n",
    "        \n",
    "        Arguments:\n",
    "            x -- tensor of shape (batch_size, input_seq_len)\n",
    "            training -- boolean, if true activates dropout\n",
    "            enc_padding_mask -- boolean mask to ensure that padding is not treated as input\n",
    "        Returns:\n",
    "            x -- tensor of shape (batch_size, input_seq_len, embedding_dim)\n",
    "        \"\"\"\n",
    "\n",
    "        seq_len = tf.shape(x)[1]\n",
    "        \n",
    "        # Pass input through the Embedding layer\n",
    "        x = self.embedding(x)          # output shape = (batch_size, input_seq_len, d_model)\n",
    "\n",
    "        # Scale embedding by multiplying it with the square root of d_model to enhance performance\n",
    "        x *= tf.sqrt(tf.cast(self.d_model, float))\n",
    "\n",
    "        # Add position encoding to embedding\n",
    "        x += self.pos_encoding[:, :seq_len, :]\n",
    "\n",
    "        # Pass encoded embedding through dropout layer\n",
    "        x = self.dropout(x, training=training)\n",
    "\n",
    "        # Pass output through stack of encoding layers \n",
    "        for i in range(self.N):\n",
    "            x = self.enc_layers[i](x, training, enc_padding_mask)\n",
    "\n",
    "        return x"
   ]
  },
  {
   "cell_type": "markdown",
   "id": "9cc3a819",
   "metadata": {},
   "source": [
    "# Decoder\n",
    "\n",
    "This is the right part of the transformer.<br>\n",
    "\n",
    "<img src=\"images/decoder.png\" width=\"300\" align=\"left\"/>"
   ]
  },
  {
   "cell_type": "markdown",
   "id": "52d89f84",
   "metadata": {},
   "source": [
    "In the decoder, the outputs are shifted right with regard to the inputs. This is done in the data pipeline where \\<SOS> is dropped from the inputs while it is retained in the outputs.<br>\n",
    "After adding positional encoding, in multihead attention a 'causal mask' is added masking out tokens that are still to be predicted. This way, only the tokens that were already predicted in a previous step, or the preceding tokens that are provided during training, become the basis for the relevant query from the decoder to be used on the encoder output. "
   ]
  },
  {
   "cell_type": "code",
   "execution_count": 42,
   "id": "e2df2f1e",
   "metadata": {},
   "outputs": [],
   "source": [
    "def create_causal_mask(seq_len):\n",
    "    mask = tf.linalg.band_part(tf.ones((1, seq_len, seq_len), tf.bool), -1, 0)\n",
    "    return mask  # (1, seq_leng, seq_len)"
   ]
  },
  {
   "cell_type": "code",
   "execution_count": 43,
   "id": "ca2cb19c",
   "metadata": {},
   "outputs": [
    {
     "data": {
      "text/plain": [
       "<tf.Tensor: shape=(1, 4, 4), dtype=bool, numpy=\n",
       "array([[[ True, False, False, False],\n",
       "        [ True,  True, False, False],\n",
       "        [ True,  True,  True, False],\n",
       "        [ True,  True,  True,  True]]])>"
      ]
     },
     "execution_count": 43,
     "metadata": {},
     "output_type": "execute_result"
    }
   ],
   "source": [
    "# example\n",
    "create_causal_mask(4)"
   ]
  },
  {
   "cell_type": "code",
   "execution_count": 44,
   "id": "41a364ed",
   "metadata": {},
   "outputs": [],
   "source": [
    "class DecoderLayer(tf.keras.layers.Layer):\n",
    "\n",
    "    def __init__(self, d_model, h, dff, p_drop=0.1, layernorm_eps=1e-6):\n",
    "\n",
    "        super(DecoderLayer, self).__init__()\n",
    "        \n",
    "        self.mha = MultiHeadAttention(num_heads=h, key_dim=d_model, dropout=p_drop)\n",
    "        \n",
    "        self.ffn = FeedForward(d_model, dff)\n",
    "        \n",
    "        self.layernorm = tf.keras.layers.LayerNormalization(epsilon=layernorm_eps)\n",
    "        \n",
    "        self.dropout = tf.keras.layers.Dropout(p_drop)\n",
    "        \n",
    "    def call(self, x, enc_output, training, causal_mask, dec_padding_mask, enc_padding_mask):\n",
    "\n",
    "        attn1 = self.mha(query=x, value=x, key=x, attention_mask=causal_mask & dec_padding_mask)  \n",
    "        attn1 = self.dropout(attn1, training=training)\n",
    "        out1 = self.layernorm(Add()([x + attn1]))\n",
    "    \n",
    "        attn2 = self.mha(query=out1, value=enc_output, key=enc_output, attention_mask=enc_padding_mask)\n",
    "        attn2 = self.dropout(attn2, training=training)\n",
    "        out2 = self.layernorm(Add()([out1, attn2]))\n",
    "\n",
    "        ffn_output = self.ffn(out2)\n",
    "        ffn_output = self.dropout(ffn_output, training=training)\n",
    "        out3 = self.layernorm(Add()([out2, ffn_output]))\n",
    "\n",
    "        return out3"
   ]
  },
  {
   "cell_type": "code",
   "execution_count": 45,
   "id": "cd548a09",
   "metadata": {},
   "outputs": [],
   "source": [
    "class Decoder(tf.keras.layers.Layer):\n",
    "\n",
    "    def __init__(self, d_model, max_len, N, h, dff, target_vocab_size, p_drop = 0.1, layernorm_eps = 1e-6):\n",
    "\n",
    "        super(Decoder, self).__init__()\n",
    "\n",
    "        self.d_model = d_model\n",
    "\n",
    "        self.N = N\n",
    "\n",
    "        self.embedding = tf.keras.layers.Embedding(target_vocab_size, d_model)\n",
    "        \n",
    "        self.pos_encoding = positional_encoding(max_len, self.d_model)\n",
    "\n",
    "        self.dropout = tf.keras.layers.Dropout(p_drop)\n",
    "\n",
    "        self.dec_layers = [DecoderLayer(d_model=d_model, h=h, dff=dff, p_drop=p_drop,\n",
    "                                    layernorm_eps = layernorm_eps)\n",
    "                       for _ in range(self.N)]\n",
    "\n",
    "    def call(self, x, enc_output, training, causal_mask, dec_padding_mask, enc_padding_mask):\n",
    "\n",
    "        seq_len = tf.shape(x)[1]\n",
    "\n",
    "        x = self.embedding(x)              # output shape = (batch_size, target_seq_len, d_model)\n",
    "\n",
    "        x *= tf.math.sqrt(tf.cast(self.d_model, tf.float32))\n",
    "\n",
    "        x += self.pos_encoding[:, :seq_len,:]\n",
    "\n",
    "        x = self.dropout(x, training=training)\n",
    "\n",
    "        for i in range(self.N):\n",
    "            x = self.dec_layers[i](x, enc_output, training, causal_mask, dec_padding_mask, enc_padding_mask)\n",
    "\n",
    "        return x\n"
   ]
  },
  {
   "cell_type": "markdown",
   "id": "0f50cdc1",
   "metadata": {},
   "source": [
    "# Transformer\n",
    "\n",
    "<img src=\"images/transformer.png\">"
   ]
  },
  {
   "cell_type": "code",
   "execution_count": 46,
   "id": "3ff9d24c",
   "metadata": {},
   "outputs": [],
   "source": [
    "class Transformer(tf.keras.Model):\n",
    "    def __init__(self, input_vocab_size, d_model, max_len, N , h, dff, target_vocab_size, p_drop = 0.1,\n",
    "                 layernorm_eps = 1e-6):\n",
    "\n",
    "        super().__init__()\n",
    "\n",
    "        self.encoder = Encoder(input_vocab_size = input_vocab_size, d_model = d_model, max_len = max_len,\n",
    "                               N = N, h = h, dff = dff, p_drop = p_drop, layernorm_eps = layernorm_eps)\n",
    "    \n",
    "        self.decoder = Decoder(d_model = d_model, max_len = max_len, N = N, h = h, dff = dff,\n",
    "                               target_vocab_size = target_vocab_size, p_drop = p_drop, layernorm_eps = layernorm_eps)\n",
    "    \n",
    "        self.linear_layer = tf.keras.layers.Dense(target_vocab_size)\n",
    "        \n",
    "    def call(self, inputs, training):\n",
    "\n",
    "        enc_inputs, dec_inputs = inputs\n",
    "        \n",
    "        enc_padding_mask, causal_mask, dec_padding_mask = self.create_masks(enc_inputs, dec_inputs)\n",
    "    \n",
    "        enc_output = self.encoder(enc_inputs, training, enc_padding_mask)\n",
    "    \n",
    "        dec_output = self.decoder(dec_inputs, enc_output, training, causal_mask, dec_padding_mask, enc_padding_mask)\n",
    "\n",
    "        logits = self.linear_layer(dec_output)\n",
    "    \n",
    "        # return output of linear layer of decoder (before softmax)\n",
    "\n",
    "        return logits\n",
    "\n",
    "    def create_masks(self, enc_inputs, dec_inputs):\n",
    "        \n",
    "        enc_padding_mask = create_padding_mask(enc_inputs)\n",
    "        \n",
    "        causal_mask = create_causal_mask(tf.shape(dec_inputs)[1])\n",
    "\n",
    "        dec_padding_mask = create_padding_mask(dec_inputs)\n",
    "            \n",
    "        return enc_padding_mask, causal_mask, dec_padding_mask\n"
   ]
  },
  {
   "cell_type": "markdown",
   "id": "ce7cc10b",
   "metadata": {},
   "source": [
    "# Set hyperparameters"
   ]
  },
  {
   "cell_type": "code",
   "execution_count": 47,
   "id": "4dc9b595",
   "metadata": {},
   "outputs": [],
   "source": [
    "N = 6                 # number of layers\n",
    "d_model = 512         # embedding dimension of model\n",
    "max_len = MAX_TOKENS  # maximum length of any input sequence\n",
    "dff = 2048            # number of nodes of feedforward layer\n",
    "h = 8                 # number of heads\n",
    "p_drop = 0.1          # dropout rate\n"
   ]
  },
  {
   "cell_type": "code",
   "execution_count": 48,
   "id": "588f083a",
   "metadata": {},
   "outputs": [],
   "source": [
    "transformer = Transformer(\n",
    "    input_vocab_size=tokenizers.nl.get_vocab_size().numpy(),\n",
    "    d_model = d_model,\n",
    "    max_len = max_len,\n",
    "    N = N,\n",
    "    h = h,\n",
    "    dff=dff,\n",
    "    target_vocab_size=tokenizers.en.get_vocab_size().numpy(),\n",
    "    p_drop=p_drop)\n"
   ]
  },
  {
   "cell_type": "code",
   "execution_count": 49,
   "id": "a3d68689",
   "metadata": {},
   "outputs": [
    {
     "name": "stderr",
     "output_type": "stream",
     "text": [
      "2023-01-12 21:40:05.554229: I tensorflow/compiler/xla/stream_executor/cuda/cuda_blas.cc:630] TensorFloat-32 will be used for the matrix multiplication. This will only be logged once.\n"
     ]
    }
   ],
   "source": [
    "output = transformer((nl, en_inputs))"
   ]
  },
  {
   "cell_type": "code",
   "execution_count": 50,
   "id": "38965a28",
   "metadata": {},
   "outputs": [
    {
     "name": "stdout",
     "output_type": "stream",
     "text": [
      "(64, 65)\n",
      "(64, 66)\n",
      "(64, 66, 31222)\n"
     ]
    }
   ],
   "source": [
    "print(nl.shape)\n",
    "print(en_inputs.shape)\n",
    "print(output.shape)"
   ]
  },
  {
   "cell_type": "code",
   "execution_count": 51,
   "id": "559a7a70",
   "metadata": {},
   "outputs": [
    {
     "name": "stdout",
     "output_type": "stream",
     "text": [
      "Model: \"transformer\"\n",
      "_________________________________________________________________\n",
      " Layer (type)                Output Shape              Param #   \n",
      "=================================================================\n",
      " encoder (Encoder)           multiple                  78819328  \n",
      "                                                                 \n",
      " decoder (Decoder)           multiple                  78998528  \n",
      "                                                                 \n",
      " dense_24 (Dense)            multiple                  16016886  \n",
      "                                                                 \n",
      "=================================================================\n",
      "Total params: 173,834,742\n",
      "Trainable params: 173,834,742\n",
      "Non-trainable params: 0\n",
      "_________________________________________________________________\n"
     ]
    }
   ],
   "source": [
    "transformer.summary()"
   ]
  },
  {
   "cell_type": "markdown",
   "id": "d6cb353a",
   "metadata": {},
   "source": [
    "# Set learning rate schedule"
   ]
  },
  {
   "cell_type": "markdown",
   "id": "3e1fd252",
   "metadata": {},
   "source": [
    "The following learning rate schedule is used to train the model:\n",
    "<img src=\"images/learning_rate.png\">"
   ]
  },
  {
   "cell_type": "code",
   "execution_count": 52,
   "id": "c6d0ad30",
   "metadata": {},
   "outputs": [],
   "source": [
    "class CustomSchedule(tf.keras.optimizers.schedules.LearningRateSchedule):\n",
    "  def __init__(self, d_model, warmup_steps=4000):\n",
    "    super().__init__()\n",
    "\n",
    "    self.d_model = tf.cast(d_model, tf.float32)\n",
    "\n",
    "    self.warmup_steps = warmup_steps\n",
    "\n",
    "  def __call__(self, step):\n",
    "    step = tf.cast(step, dtype=tf.float32)\n",
    "    arg1 = tf.math.rsqrt(step)\n",
    "    arg2 = step * (self.warmup_steps ** -1.5)\n",
    "\n",
    "    return tf.math.rsqrt(self.d_model) * tf.math.minimum(arg1, arg2)\n"
   ]
  },
  {
   "cell_type": "code",
   "execution_count": 53,
   "id": "da296de7",
   "metadata": {},
   "outputs": [],
   "source": [
    "ValueError: Unknown layer: 'Transformer'. Please ensure you are using a `keras.utils.custom_object_scope` and that this object is included in the scope. See https://www.tensorflow.org/guide/keras/save_and_serialize#registering_the_custom_object for details.\n",
    "learning_rate = CustomSchedule(d_model)\n",
    "\n",
    "optimizer = tf.keras.optimizers.Adam(learning_rate, beta_1=0.9, beta_2=0.98,\n",
    "                                     epsilon=1e-9)\n"
   ]
  },
  {
   "cell_type": "code",
   "execution_count": 54,
   "id": "f131151a",
   "metadata": {},
   "outputs": [],
   "source": [
    "import matplotlib.pyplot as plt"
   ]
  },
  {
   "cell_type": "code",
   "execution_count": 55,
   "id": "10833a80",
   "metadata": {},
   "outputs": [
    {
     "data": {
      "text/plain": [
       "Text(0.5, 0, 'Train Step')"
      ]
     },
     "execution_count": 55,
     "metadata": {},
     "output_type": "execute_result"
    },
    {
     "data": {
      "image/png": "[encoded data removed]",
      "text/plain": [
       "<Figure size 640x480 with 1 Axes>"
      ]
     },
     "metadata": {},
     "output_type": "display_data"
    }
   ],
   "source": [
    "plt.plot(learning_rate(tf.range(40000, dtype=tf.float32)))\n",
    "plt.ylabel('Learning Rate')\n",
    "plt.xlabel('Train Step')\n"
   ]
  },
  {
   "cell_type": "markdown",
   "id": "537391c0",
   "metadata": {},
   "source": [
    "# Set up loss and metrics"
   ]
  },
  {
   "cell_type": "code",
   "execution_count": 56,
   "id": "dde39ae0",
   "metadata": {},
   "outputs": [],
   "source": [
    "loss_object = tf.keras.losses.SparseCategoricalCrossentropy(from_logits=True, reduction='none')"
   ]
  },
  {
   "cell_type": "code",
   "execution_count": 57,
   "id": "ea7ac69c",
   "metadata": {},
   "outputs": [],
   "source": [
    "def masked_loss(label, pred):\n",
    "    mask = label != 0\n",
    "    loss = loss_object(label, pred)\n",
    "    mask = tf.cast(mask, dtype=loss.dtype)\n",
    "    loss *= mask\n",
    "\n",
    "    loss = tf.reduce_sum(loss)/tf.reduce_sum(mask)\n",
    "\n",
    "    return loss\n",
    "\n",
    "def masked_accuracy(label, pred):\n",
    "  pred = tf.argmax(pred, axis=2)\n",
    "  label = tf.cast(label, pred.dtype)\n",
    "  match = label == pred\n",
    "\n",
    "  mask = label != 0\n",
    "\n",
    "  match = match & mask\n",
    "\n",
    "  match = tf.cast(match, dtype=tf.float32)\n",
    "  mask = tf.cast(mask, dtype=tf.float32)\n",
    "  return tf.reduce_sum(match)/tf.reduce_sum(mask)\n"
   ]
  },
  {
   "cell_type": "code",
   "execution_count": 58,
   "id": "39fdd65c",
   "metadata": {},
   "outputs": [],
   "source": [
    "transformer.compile(\n",
    "    loss=masked_loss,\n",
    "    optimizer=optimizer,\n",
    "    metrics=[masked_accuracy])\n"
   ]
  },
  {
   "cell_type": "code",
   "execution_count": 59,
   "id": "4aa8c0ab",
   "metadata": {},
   "outputs": [
    {
     "name": "stderr",
     "output_type": "stream",
     "text": [
      "2023-01-12 21:40:17.005128: I tensorflow/compiler/xla/service/service.cc:173] XLA service 0x1d38fce0 initialized for platform CUDA (this does not guarantee that XLA will be used). Devices:\n",
      "2023-01-12 21:40:17.005151: I tensorflow/compiler/xla/service/service.cc:181]   StreamExecutor device (0): NVIDIA GeForce RTX 3090, Compute Capability 8.6\n",
      "2023-01-12 21:40:17.009200: I tensorflow/compiler/mlir/tensorflow/utils/dump_mlir_util.cc:268] disabling MLIR crash reproducer, set env var `MLIR_CRASH_REPRODUCER_DIRECTORY` to enable.\n",
      "2023-01-12 21:40:17.086826: I tensorflow/compiler/jit/xla_compilation_cache.cc:477] Compiled cluster using XLA!  This line is logged at most once for the lifetime of the process.\n"
     ]
    },
    {
     "name": "stdout",
     "output_type": "stream",
     "text": [
      "79584/79584 [==============================] - 37184s 467ms/step - loss: 4.3922 - masked_accuracy: 0.3419 - val_loss: 6.3373 - val_masked_accuracy: 0.1311\n"
     ]
    },
    {
     "data": {
      "text/plain": [
       "<keras.callbacks.History at 0x7f7db0deda00>"
      ]
     },
     "execution_count": 59,
     "metadata": {},
     "output_type": "execute_result"
    }
   ],
   "source": [
    "# 1 epoch takes around 11 hours on 1 NVIDIA GeForce RTX 3090 GPU. Steps taken 79,584\n",
    "\n",
    "transformer.fit(train_batches,\n",
    "                epochs=1,\n",
    "                validation_data = val_batches)\n"
   ]
  },
  {
   "cell_type": "code",
   "execution_count": 60,
   "id": "dc201674",
   "metadata": {},
   "outputs": [],
   "source": [
    "class Translator(tf.Module):\n",
    "\n",
    "    def __init__(self, tokenizers, transformer):\n",
    "        self.tokenizers = tokenizers\n",
    "        self.transformer = transformer\n",
    "\n",
    "    def __call__(self, sentence, max_length=MAX_TOKENS):\n",
    "        # The input sentence is Dutch, hence adding the `[START]` and `[END]` tokens.\n",
    "        assert isinstance(sentence, tf.Tensor)\n",
    "        if len(sentence.shape) == 0:\n",
    "          sentence = sentence[tf.newaxis]\n",
    "\n",
    "        sentence = self.tokenizers.nl.tokenize(sentence).to_tensor()\n",
    "\n",
    "        encoder_input = sentence\n",
    "\n",
    "        # As the output language is English, initialize the output with the\n",
    "        # English `[START]` token.\n",
    "        start_end = self.tokenizers.en.tokenize([''])[0]\n",
    "        start = start_end[0][tf.newaxis]\n",
    "        end = start_end[1][tf.newaxis]\n",
    "\n",
    "        # `tf.TensorArray` is required here (instead of a Python list), so that the\n",
    "        # dynamic-loop can be traced by `tf.function`.\n",
    "        output_array = tf.TensorArray(dtype=tf.int64, size=0, dynamic_size=True)\n",
    "        output_array = output_array.write(0, start)\n",
    "\n",
    "        for i in tf.range(max_length):\n",
    "          output = tf.transpose(output_array.stack())\n",
    "          predictions = self.transformer([encoder_input, output], training=False)\n",
    "\n",
    "          # Select the last token from the `seq_len` dimension.\n",
    "          predictions = predictions[:, -1:, :]  # Shape `(batch_size, 1, vocab_size)`.\n",
    "\n",
    "          predicted_id = tf.argmax(predictions, axis=-1)\n",
    "\n",
    "          # Concatenate the `predicted_id` to the output which is given to the\n",
    "          # decoder as its input.\n",
    "          output_array = output_array.write(i+1, predicted_id[0])\n",
    "\n",
    "          if predicted_id == end:\n",
    "            break\n",
    "\n",
    "        output = tf.transpose(output_array.stack())\n",
    "        # The output shape is `(1, tokens)`.\n",
    "        text = tokenizers.en.detokenize(output)[0]  # Shape: `()`.\n",
    "\n",
    "        tokens = tokenizers.en.lookup(output)[0]\n",
    "\n",
    "        # `tf.function` prevents us from using the attention_weights that were\n",
    "        # calculated on the last iteration of the loop.\n",
    "        # So, recalculate them outside the loop.\n",
    "        self.transformer([encoder_input, output[:,:-1]], training=False)\n",
    "\n",
    "        return text, tokens\n"
   ]
  },
  {
   "cell_type": "code",
   "execution_count": 61,
   "id": "cd197e63",
   "metadata": {},
   "outputs": [],
   "source": [
    "translator = Translator(tokenizers, transformer)\n"
   ]
  },
  {
   "cell_type": "code",
   "execution_count": 62,
   "id": "80d81429",
   "metadata": {},
   "outputs": [],
   "source": [
    "sentence = 'eens kijken of dit goed vertaald wordt.'\n",
    "ground_truth = 'let\\'s see if this is translated correctly.'\n",
    "\n",
    "translated_text, translated_tokens = translator(\n",
    "    tf.constant(sentence))\n",
    "\n"
   ]
  },
  {
   "cell_type": "code",
   "execution_count": 63,
   "id": "0df8495b",
   "metadata": {},
   "outputs": [
    {
     "name": "stdout",
     "output_type": "stream",
     "text": [
      "Input:         : eens kijken of dit goed vertaald wordt.\n",
      "Prediction     : the following is the result :\n",
      "Ground truth   : let's see if this is translated correctly.\n"
     ]
    }
   ],
   "source": [
    "def print_translation(sentence, tokens, ground_truth):\n",
    "  print(f'{\"Input:\":15s}: {sentence}')\n",
    "  print(f'{\"Prediction\":15s}: {tokens.numpy().decode(\"utf-8\")}')\n",
    "  print(f'{\"Ground truth\":15s}: {ground_truth}')\n",
    "\n",
    "print_translation(sentence, translated_text, ground_truth)"
   ]
  },
  {
   "cell_type": "code",
   "execution_count": 66,
   "id": "a9beca9c",
   "metadata": {},
   "outputs": [],
   "source": [
    "# The result is not great. Ways to increase accuracy could include: \n",
    "# check for bugs, train multiple epochs, improve the dataset, adjust hyperparameters, add layers"
   ]
  },
  {
   "cell_type": "code",
   "execution_count": 70,
   "id": "e31c4eaa",
   "metadata": {},
   "outputs": [
    {
     "name": "stdout",
     "output_type": "stream",
     "text": [
      "Saved model to disk\n"
     ]
    }
   ],
   "source": [
    "transformer_json = transformer.to_json()\n",
    "with open(\"transformer.json\", \"w\") as json_file:\n",
    "    json_file.write(transformer_json)\n",
    "# serialize weights to HDF5\n",
    "transformer.save_weights(\"transformer.h5\")\n",
    "print(\"Saved model to disk\")"
   ]
  },
  {
   "cell_type": "code",
   "execution_count": null,
   "id": "66534ba1",
   "metadata": {},
   "outputs": [],
   "source": []
  }
 ],
 "metadata": {
  "kernelspec": {
   "display_name": "Python 3 (ipykernel)",
   "language": "python",
   "name": "python3"
  },
  "language_info": {
   "codemirror_mode": {
    "name": "ipython",
    "version": 3
   },
   "file_extension": ".py",
   "mimetype": "text/x-python",
   "name": "python",
   "nbconvert_exporter": "python",
   "pygments_lexer": "ipython3",
   "version": "3.9.15"
  }
 },
 "nbformat": 4,
 "nbformat_minor": 5
}
